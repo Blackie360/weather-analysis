{
 "cells": [
  {
   "cell_type": "code",
   "execution_count": null,
   "metadata": {},
   "outputs": [],
   "source": [
    "import pandas as pd\n",
    "\n",
    "# Load the dataset\n",
    "df = pd.read_csv('Weather Data.csv')\n",
    "\n",
    "\n",
    "df.head()\n"
   ]
  },
  {
   "cell_type": "code",
   "execution_count": null,
   "metadata": {},
   "outputs": [],
   "source": [
    "# 1. Find all records where the weather was exactly clear\n",
    "clear_weather = df[df['Weather'] == 'Clear']\n",
    "clear_weather\n"
   ]
  },
  {
   "cell_type": "code",
   "execution_count": null,
   "metadata": {},
   "outputs": [],
   "source": [
    "# 2. Find the number of times the wind speed was exactly 4 km/hr\n",
    "wind_speed_4 = df[df['Wind Speed_km/h'] == 4].shape[0]\n",
    "wind_speed_4\n"
   ]
  },
  {
   "cell_type": "code",
   "execution_count": null,
   "metadata": {},
   "outputs": [],
   "source": [
    "# 3. Check if there are any NULL values present in the dataset\n",
    "null_values = df.isnull().sum()\n",
    "null_values\n"
   ]
  },
  {
   "cell_type": "code",
   "execution_count": null,
   "metadata": {},
   "outputs": [],
   "source": [
    "# 4. Rename the column \"Weather\" to \"Weather_Condition\"\n",
    "df.rename(columns={'Weather': 'Weather_Condition'}, inplace=True)\n",
    "df.columns\n"
   ]
  },
  {
   "cell_type": "code",
   "execution_count": null,
   "metadata": {},
   "outputs": [],
   "source": [
    "# 5. What is the mean visibility of the dataset?\n",
    "mean_visibility = df['Visibility_km'].mean()\n",
    "mean_visibility\n"
   ]
  },
  {
   "cell_type": "code",
   "execution_count": null,
   "metadata": {},
   "outputs": [],
   "source": [
    "# 6. Find the number of records where the wind speed is greater than 24 km/hr and visibility is equal to 25 km\n",
    "wind_speed_visibility = df[(df['Wind Speed_km/h'] > 24) & (df['Visibility_km'] == 25)].shape[0]\n",
    "wind_speed_visibility\n"
   ]
  },
  {
   "cell_type": "code",
   "execution_count": null,
   "metadata": {},
   "outputs": [],
   "source": [
    "# 7. What is the mean value of each column for each weather condition?\n",
    "# Select only numeric columns to calculate mean values\n",
    "numeric_columns = df.select_dtypes(include='number')\n",
    "\n",
    "# Group by 'Weather_Condition' and calculate the mean for numeric columns\n",
    "mean_values = numeric_columns.groupby(df['Weather_Condition']).mean()\n",
    "mean_values\n"
   ]
  },
  {
   "cell_type": "code",
   "execution_count": null,
   "metadata": {},
   "outputs": [],
   "source": [
    "# 8. Find all instances where the weather is clear and the relative humidity is greater than 50, or visibility is above 40\n",
    "specific_conditions = df[(df['Weather_Condition'] == 'Clear') & (df['Relative Humidity'] > 50) | (df['Visibility_km'] > 40)]\n",
    "specific_conditions\n"
   ]
  },
  {
   "cell_type": "code",
   "execution_count": null,
   "metadata": {},
   "outputs": [],
   "source": [
    "# 9. Find the number of weather conditions that include snow\n",
    "snow_conditions = df['Weather_Condition'].str.contains('Snow').sum()\n",
    "snow_conditions\n"
   ]
  }
 ],
 "metadata": {
  "kernelspec": {
   "display_name": "Python 3",
   "language": "python",
   "name": "python3"
  },
  "language_info": {
   "codemirror_mode": {
    "name": "ipython",
    "version": 3
   },
   "file_extension": ".py",
   "mimetype": "text/x-python",
   "name": "python",
   "nbconvert_exporter": "python",
   "pygments_lexer": "ipython3",
   "version": "3.12.5"
  }
 },
 "nbformat": 4,
 "nbformat_minor": 2
}
